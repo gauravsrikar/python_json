{
 "cells": [
  {
   "attachments": {},
   "cell_type": "markdown",
   "metadata": {},
   "source": [
    "# Read the file to the object"
   ]
  },
  {
   "cell_type": "code",
   "execution_count": 11,
   "metadata": {},
   "outputs": [
    {
     "name": "stdout",
     "output_type": "stream",
     "text": [
      "Found  {'graph': {'values': []}}\n",
      "Found  {'values': []}\n",
      "Found  []\n",
      "{'calibration': {'graph': {'values': []}}, 'ROC': {}}\n"
     ]
    }
   ],
   "source": [
    "import json\n",
    "\n",
    "with open(\"sample.json\", \"r\") as file:\n",
    "    json_object = json.load(file)\n",
    "    try:\n",
    "        print(\"Found \",json_object[\"calibration\"])\n",
    "        try:\n",
    "            print(\"Found \",json_object[\"calibration\"][\"graph\"])\n",
    "            try:\n",
    "                print(\"Found \",json_object[\"calibration\"][\"graph\"][\"values\"])\n",
    "            except:\n",
    "                json_object[\"calibration\"][\"graph\"][\"values\"] = []\n",
    "        except:\n",
    "            json_object[\"calibration\"][\"graph\"] = {}\n",
    "    except:\n",
    "        json_object[\"calibration\"] = {}\n",
    "    \n",
    "    print(json_object)"
   ]
  },
  {
   "attachments": {},
   "cell_type": "markdown",
   "metadata": {},
   "source": [
    "# Update the object in the file"
   ]
  },
  {
   "cell_type": "code",
   "execution_count": 12,
   "metadata": {},
   "outputs": [],
   "source": [
    "json_object[\"ROC\"] = {}\n",
    "\n",
    "with open(\"sample.json\", \"w\") as file:\n",
    "    file.write( json.dumps(json_object, indent = 2) )"
   ]
  },
  {
   "cell_type": "code",
   "execution_count": null,
   "metadata": {},
   "outputs": [],
   "source": []
  }
 ],
 "metadata": {
  "kernelspec": {
   "display_name": "torch",
   "language": "python",
   "name": "python3"
  },
  "language_info": {
   "codemirror_mode": {
    "name": "ipython",
    "version": 3
   },
   "file_extension": ".py",
   "mimetype": "text/x-python",
   "name": "python",
   "nbconvert_exporter": "python",
   "pygments_lexer": "ipython3",
   "version": "3.9.13"
  },
  "orig_nbformat": 4
 },
 "nbformat": 4,
 "nbformat_minor": 2
}
