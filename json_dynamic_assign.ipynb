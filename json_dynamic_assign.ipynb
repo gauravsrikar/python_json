{
 "cells": [
  {
   "attachments": {},
   "cell_type": "markdown",
   "metadata": {},
   "source": [
    "# Read from a JSON file"
   ]
  },
  {
   "cell_type": "code",
   "execution_count": null,
   "metadata": {},
   "outputs": [],
   "source": [
    "import json\n",
    "\n",
    "key_str = \"classification3/accurac2/labels/key\"\n",
    "\n",
    "try:\n",
    "    with open(\"sample.json\", \"r\") as file:\n",
    "        json_object2 = json.load(file)\n",
    "except:\n",
    "    f = open(\"sample.json\", \"w\")\n",
    "    f.write( json.dumps({}, indent = 2))\n",
    "    f.close()\n",
    "keys = key_str.split(\"/\")"
   ]
  },
  {
   "attachments": {},
   "cell_type": "markdown",
   "metadata": {},
   "source": [
    "# Assign value to the JSON Object"
   ]
  },
  {
   "cell_type": "code",
   "execution_count": null,
   "metadata": {},
   "outputs": [],
   "source": [
    "def update_json(json_object , keys, value):\n",
    "    if len(keys) == 1:\n",
    "        try:\n",
    "            json_object[keys[0]] = value\n",
    "        except:\n",
    "            json_object[keys[0]] = {}\n",
    "            json_object[keys[0]] = value\n",
    "    else:\n",
    "        key = keys.pop(0)\n",
    "        try:\n",
    "            json_object = json_object[key]\n",
    "        except:\n",
    "            json_object[key] = {}\n",
    "            json_object = json_object[key]\n",
    "        finally:\n",
    "            update_json(json_object, keys, value)\n",
    "\n",
    "update_json(json_object2, keys,[\"value4\", \"value5\", \"value6\"])"
   ]
  },
  {
   "attachments": {},
   "cell_type": "markdown",
   "metadata": {},
   "source": [
    "# Write back to the JSON File"
   ]
  },
  {
   "cell_type": "code",
   "execution_count": null,
   "metadata": {},
   "outputs": [],
   "source": [
    "with open(\"sample.json\", \"w\") as file:\n",
    "    file.write( json.dumps(json_object2, indent = 2) )"
   ]
  }
 ],
 "metadata": {
  "kernelspec": {
   "display_name": "torch",
   "language": "python",
   "name": "python3"
  },
  "language_info": {
   "codemirror_mode": {
    "name": "ipython",
    "version": 3
   },
   "file_extension": ".py",
   "mimetype": "text/x-python",
   "name": "python",
   "nbconvert_exporter": "python",
   "pygments_lexer": "ipython3",
   "version": "3.9.13"
  },
  "orig_nbformat": 4
 },
 "nbformat": 4,
 "nbformat_minor": 2
}
